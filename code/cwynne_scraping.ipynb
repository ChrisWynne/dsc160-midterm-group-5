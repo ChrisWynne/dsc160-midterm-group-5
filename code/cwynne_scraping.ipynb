{
 "cells": [
  {
   "cell_type": "markdown",
   "metadata": {},
   "source": [
    "# Spotify API Scrape"
   ]
  },
  {
   "cell_type": "markdown",
   "metadata": {},
   "source": [
    "## Setup"
   ]
  },
  {
   "cell_type": "code",
   "execution_count": null,
   "metadata": {},
   "outputs": [],
   "source": [
    "# run this once\n",
    "#!pip install spotipy --upgrade"
   ]
  },
  {
   "cell_type": "code",
   "execution_count": null,
   "metadata": {},
   "outputs": [],
   "source": [
    "import spotipy\n",
    "from spotipy.oauth2 import SpotifyClientCredentials\n",
    "import pandas as pd\n",
    "import numpy as np\n",
    "import json\n",
    "import os"
   ]
  },
  {
   "cell_type": "markdown",
   "metadata": {},
   "source": [
    "# Library Code"
   ]
  },
  {
   "cell_type": "code",
   "execution_count": null,
   "metadata": {},
   "outputs": [],
   "source": [
    "def get_credentials(api_cred_fp):\n",
    "    if os.path.exists(api_cred_fp):\n",
    "        with open(api_cred_fp) as json_file:\n",
    "            creds = json.load(json_file)\n",
    "        return creds\n",
    "    else:\n",
    "        \"Credentials File Not Found\"\n",
    "\n",
    "def load_cached_requests(fp):\n",
    "    if os.path.exists(fp):\n",
    "        with open(fp) as json_file:\n",
    "            ret_dic = json.load(json_file)\n",
    "            print(\"Loaded cached data at:\",fp)\n",
    "    else:\n",
    "        print(\"Failed to load cached data at:\",fp)\n",
    "        ret_dic = {}\n",
    "    return ret_dic\n",
    "\n",
    "def save_cached_requests(save_dic, save_dir,fname):\n",
    "    if not os.path.exists(save_dir):\n",
    "        os.makedirs(save_dir)\n",
    "    with open(save_dir+fname,'w+') as outfile:\n",
    "        json.dump(save_dic,outfile)\n",
    "\n",
    "def save_csvs(df_list,dir_list,fname_list):\n",
    "    if len(df_list) == len(dir_list) == len(fname_list):\n",
    "        for i in range(len(df_list)):\n",
    "            cur_df = df_list[i]\n",
    "            cur_dir = dir_list[i]\n",
    "            cur_fname = fname_list[i]\n",
    "            if not os.path.exists(cur_dir):\n",
    "                os.makedirs(cur_dir)\n",
    "            cur_df.to_csv(cur_dir+cur_fname,index=False)\n",
    "            print(\"CSV Saved at:\",cur_dir+cur_fname)\n",
    "    else:\n",
    "        print(\"Save Failed: List lengths must be the same\")\n",
    "\n",
    "def save_csv(df, save_dir, fname):\n",
    "    if not os.path.exists(save_dir):\n",
    "        os.makedirs(save_dir)\n",
    "    df.to_csv(save_dir + fname,index=False)\n",
    "    print(\"CSV Saved at:\",save_dir+fname)\n",
    "    \n",
    "def get_playlists_data_from_category(cat_id,master_playlist_dic,sp):\n",
    "    # api call\n",
    "    search_result = sp.category_playlists(category_id=cat_id,country=\"US\")\n",
    "    playlist_ids = []\n",
    "    for playlist in search_result['playlists']['items']:\n",
    "        playlist_ids.append(playlist['id'])\n",
    "    playlists_data = []\n",
    "    for playlist_id in playlist_ids:\n",
    "        # avoids api call using cached request, could hold outdated info if playlist is changed recently\n",
    "        if playlist_id in master_playlist_dic.keys():\n",
    "            playlist_data = master_playlist_dic[playlist_id]\n",
    "        else:\n",
    "            # api call\n",
    "            playlist_data = sp.playlist(playlist_id)\n",
    "            master_playlist_dic[playlist_id] = playlist_data\n",
    "        playlists_data.append(playlist_data)\n",
    "    return playlists_data\n",
    "\n",
    "def get_track_data_from_playlists(playlists_data, master_track_dic, master_audio_features_dic,sp):\n",
    "    ret_df = pd.DataFrame()\n",
    "    for cur_playlist_data in playlists_data: # only doing two for api reasons currently\n",
    "\n",
    "        # can add more features here (album, artist, etc..) MOVED TO FUNCTION USING CACHED DICS\n",
    "        cur_playlist_track_ids = []\n",
    "        for track in cur_playlist_data['tracks']['items']:\n",
    "            if track['track']:\n",
    "                cur_track_id = track['track']['id']\n",
    "                if cur_track_id != None:\n",
    "                    # caches track metadata if not cached\n",
    "                    if cur_track_id not in master_track_dic.keys():\n",
    "                        master_track_dic[cur_track_id] = track\n",
    "                    cur_playlist_track_ids.append(cur_track_id)\n",
    "                \n",
    "        # making a list of non cached track audio features\n",
    "        not_cached_ids = []\n",
    "        for track_id in cur_playlist_track_ids:\n",
    "            if track_id not in master_audio_features_dic.keys():\n",
    "                not_cached_ids.append(track_id)\n",
    "\n",
    "        # get audio features of non cached tracks\n",
    "        if len(not_cached_ids) > 0:\n",
    "            print(\"Making\",len(not_cached_ids),\"API Calls\")\n",
    "            # api call\n",
    "            not_cached_data = sp.audio_features(not_cached_ids)\n",
    "            # caching the non cached track audio features\n",
    "            for i in range(len(not_cached_data)):\n",
    "                track_feats = not_cached_data[i]\n",
    "                if track_feats:\n",
    "                    master_audio_features_dic[track_feats['id']] = track_feats\n",
    "                else:\n",
    "                    master_audio_features_dic[not_cached_ids[i]] = None\n",
    "\n",
    "        # iterating current playlist tracks and accessing the cached audio features\n",
    "        playlist_track_feats = []\n",
    "        for track_id in cur_playlist_track_ids:\n",
    "            cur_feats = master_audio_features_dic[track_id]\n",
    "            if cur_feats:\n",
    "                playlist_track_feats.append(cur_feats)\n",
    "\n",
    "        # building return df\n",
    "        cur_playlist_df = pd.DataFrame(playlist_track_feats)\n",
    "        ret_df = pd.concat([ret_df, cur_playlist_df])\n",
    "    ret_df = ret_df.reset_index(drop=True)\n",
    "    return ret_df\n",
    "\n",
    "def main_scrape(cat_ids,csv_save_dir,csv_fname,cred_fp,cache_dir, \n",
    "                master_track_fname, master_playlist_fname, master_audio_features_fname):\n",
    "    creds = get_credentials(cred_fp)\n",
    "    client_id = creds['client_id']\n",
    "    client_secret = creds['client_secret']\n",
    "    client_credentials_manager = SpotifyClientCredentials(client_id=client_id, client_secret=client_secret)\n",
    "    sp = spotipy.Spotify(client_credentials_manager=client_credentials_manager)\n",
    "    master_track_dic = load_cached_requests(cache_dir + master_track_fname)\n",
    "    master_playlist_dic = load_cached_requests(cache_dir + master_playlist_fname)\n",
    "    master_audio_features_dic = load_cached_requests(cache_dir + master_audio_features_fname)\n",
    "    \n",
    "    master_df = pd.DataFrame()\n",
    "    for cat_id in cat_ids:\n",
    "        cat_playlists_data = get_playlists_data_from_category(cat_id,master_playlist_dic,sp)\n",
    "        cat_df = get_track_data_from_playlists(cat_playlists_data, master_track_dic,master_audio_features_dic,sp)\n",
    "        cat_df['genre'] = cat_id\n",
    "        master_df = pd.concat([master_df,cat_df])\n",
    "        print(\"Caching \" + cat_id + \" requests...\")\n",
    "        save_cached_requests(master_track_dic,cache_dir,master_track_fname)\n",
    "        save_cached_requests(master_playlist_dic,cache_dir,master_playlist_fname)\n",
    "        save_cached_requests(master_audio_features_dic,cache_dir,master_audio_features_fname)\n",
    "    master_df = master_df.drop_duplicates(subset='id')\n",
    "    save_csv(master_df,csv_save_dir,csv_fname)\n",
    "    return master_df"
   ]
  },
  {
   "cell_type": "markdown",
   "metadata": {},
   "source": [
    "# Loading Vars"
   ]
  },
  {
   "cell_type": "code",
   "execution_count": null,
   "metadata": {},
   "outputs": [],
   "source": [
    "genres = ['kpop','pop','rock']\n",
    "audio_features_dir = \"../data/test/all/metadata/\"\n",
    "audio_features_fname = \"all_audio_features.csv\"\n",
    "cred_fp = \"../api_cred.json\"\n",
    "cache_dir = \"../data/local/cached_requests/\"\n",
    "master_track_fname = \"track_data.json\"\n",
    "master_playlist_fname = \"playlist_data.json\"\n",
    "master_audio_features_fname = \"track_audio_features.json\""
   ]
  },
  {
   "cell_type": "markdown",
   "metadata": {},
   "source": [
    "# Pipeline"
   ]
  },
  {
   "cell_type": "code",
   "execution_count": null,
   "metadata": {},
   "outputs": [],
   "source": [
    "df = main_scrape(genres,audio_features_dir,audio_features_fname,cred_fp,cache_dir, \n",
    "                 master_track_fname, master_playlist_fname, master_audio_features_fname)"
   ]
  },
  {
   "cell_type": "markdown",
   "metadata": {},
   "source": [
    "# Work in Progress"
   ]
  },
  {
   "cell_type": "code",
   "execution_count": null,
   "metadata": {},
   "outputs": [],
   "source": [
    "# add more songs \n",
    "creds = get_credentials(cred_fp)\n",
    "client_id = creds['client_id']\n",
    "client_secret = creds['client_secret']\n",
    "client_credentials_manager = SpotifyClientCredentials(client_id=client_id, client_secret=client_secret)\n",
    "sp = spotipy.Spotify(client_credentials_manager=client_credentials_manager)\n",
    "master_track_dic = load_cached_requests(cache_dir + master_track_fname)\n",
    "master_playlist_dic = load_cached_requests(cache_dir + master_playlist_fname)\n",
    "master_audio_features_dic = load_cached_requests(cache_dir + master_audio_features_fname)"
   ]
  },
  {
   "cell_type": "code",
   "execution_count": null,
   "metadata": {},
   "outputs": [],
   "source": [
    "playlist_id = '660VrDfeGlKRFkMDy15JP0'\n",
    "master_playlist_dic[playlist_id]['tracks']['next']"
   ]
  },
  {
   "cell_type": "code",
   "execution_count": null,
   "metadata": {},
   "outputs": [],
   "source": [
    "playlist_data = sp.next(master_playlist_dic[playlist_id]['tracks'])"
   ]
  },
  {
   "cell_type": "code",
   "execution_count": null,
   "metadata": {},
   "outputs": [],
   "source": [
    "len(playlist_data['items'])\n",
    "len(master_playlist_dic[playlist_id]['tracks']['items'])"
   ]
  },
  {
   "cell_type": "code",
   "execution_count": null,
   "metadata": {},
   "outputs": [],
   "source": [
    "master_playlist_dic[playlist_id]['tracks']['total']"
   ]
  },
  {
   "cell_type": "markdown",
   "metadata": {},
   "source": [
    "# Old"
   ]
  },
  {
   "cell_type": "code",
   "execution_count": null,
   "metadata": {},
   "outputs": [],
   "source": [
    "# kpop_playlists_data = get_playlists_data_from_category(\"kpop\",master_playlist_dic)\n",
    "# kpop_df = get_track_data_from_playlists(pop_playlists_data, master_track_dic,master_audio_features_dic)\n",
    "\n",
    "# pop_playlists_data = get_playlists_data_from_category(\"pop\",master_playlist_dic)\n",
    "# pop_df = get_track_data_from_playlists(pop_playlists_data, master_track_dic,master_audio_features_dic)\n",
    "\n",
    "# rock_playlists_data = get_playlists_data_from_category(\"rock\",master_playlist_dic)\n",
    "# rock_df = get_track_data_from_playlists(rock_playlists_data, master_track_dic,master_audio_features_dic)"
   ]
  },
  {
   "cell_type": "code",
   "execution_count": null,
   "metadata": {},
   "outputs": [],
   "source": [
    "# save_cached_requests(master_track_dic,cache_dir,master_track_fname)\n",
    "# save_cached_requests(master_playlist_dic,cache_dir,master_playlist_fname)\n",
    "# save_cached_requests(master_audio_features_dic,cache_dir,master_audio_features_fname)"
   ]
  },
  {
   "cell_type": "code",
   "execution_count": null,
   "metadata": {},
   "outputs": [],
   "source": [
    "# rock_df['genre'] = 'rock'\n",
    "# pop_df['genre'] = 'pop'\n"
   ]
  },
  {
   "cell_type": "code",
   "execution_count": null,
   "metadata": {},
   "outputs": [],
   "source": [
    "# kpop_csv_dir = \"../data/test/kpop/metadata/\"\n",
    "# kpop_fname = \"kpop_metadata.csv\"\n",
    "\n",
    "# pop_csv_dir = \"../data/test/pop/metadata/\"\n",
    "# pop_fname = \"pop_metadata.csv\"\n",
    "\n",
    "# rock_csv_dir = \"../data/test/rock/metadata/\"\n",
    "# rock_fname = \"rock_metadata.csv\"\n",
    "\n",
    "# dfs = [kpop_df,pop_df,rock_df]\n",
    "# csv_dirs = [kpop_csv_dir,pop_csv_dir,rock_csv_dir]\n",
    "# csv_fnames = [kpop_fname,pop_fname,rock_fname]\n",
    "\n",
    "# save_csvs(dfs,csv_dirs,csv_fnames)"
   ]
  },
  {
   "cell_type": "code",
   "execution_count": null,
   "metadata": {},
   "outputs": [],
   "source": [
    "# analysis_df = pd.read_csv(\"../data/test/kpop/metadata/kpop_metadata.csv\")"
   ]
  }
 ],
 "metadata": {
  "kernelspec": {
   "display_name": "Python 3",
   "language": "python",
   "name": "python3"
  },
  "language_info": {
   "codemirror_mode": {
    "name": "ipython",
    "version": 3
   },
   "file_extension": ".py",
   "mimetype": "text/x-python",
   "name": "python",
   "nbconvert_exporter": "python",
   "pygments_lexer": "ipython3",
   "version": "3.7.4"
  }
 },
 "nbformat": 4,
 "nbformat_minor": 2
}
