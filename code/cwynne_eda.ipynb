{
 "cells": [
  {
   "cell_type": "markdown",
   "metadata": {},
   "source": [
    "# EDA Notebook"
   ]
  },
  {
   "cell_type": "code",
   "execution_count": 94,
   "metadata": {},
   "outputs": [],
   "source": [
    "import pandas as pd\n",
    "import numpy as np\n",
    "import json\n",
    "from sklearn.model_selection import train_test_split\n",
    "from sklearn.neighbors import KNeighborsClassifier\n",
    "from sklearn.ensemble import RandomForestClassifier"
   ]
  },
  {
   "cell_type": "code",
   "execution_count": 87,
   "metadata": {},
   "outputs": [],
   "source": [
    "# kpop_df = pd.read_csv(\"../data/test/kpop/metadata/kpop_metadata.csv\")\n",
    "# pop_df = pd.read_csv(\"../data/test/pop/metadata/pop_metadata.csv\")\n",
    "# rock_df = pd.read_csv(\"../data/test/rock/metadata/rock_metadata.csv\")"
   ]
  },
  {
   "cell_type": "code",
   "execution_count": 88,
   "metadata": {},
   "outputs": [],
   "source": [
    "# kpop_df['genre'] = 'kpop'\n",
    "# pop_df['genre'] = 'pop'\n",
    "# rock_df['genre'] = 'rock'\n",
    "# analysis_df = pd.concat([kpop_df,pop_df,rock_df])"
   ]
  },
  {
   "cell_type": "code",
   "execution_count": 89,
   "metadata": {},
   "outputs": [],
   "source": [
    "analysis_df = pd.read_csv(\"../data/test/all/metadata/all_audio_features.csv\")"
   ]
  },
  {
   "cell_type": "code",
   "execution_count": 95,
   "metadata": {},
   "outputs": [],
   "source": [
    "kpop_df = analysis_df[analysis_df['genre(s)'].apply(lambda x: \"kpop\" in x)].reset_index(drop=True)\n",
    "not_kpop = analysis_df[analysis_df['genre(s)'].apply(lambda x: \"kpop\" not in x)].reset_index(drop=True)"
   ]
  },
  {
   "cell_type": "code",
   "execution_count": 96,
   "metadata": {},
   "outputs": [],
   "source": [
    "numerical_feats = ['danceability','energy','loudness','key','mode',\n",
    "                   'speechiness','acousticness','instrumentalness',\n",
    "                   'liveness','valence','tempo']"
   ]
  },
  {
   "cell_type": "code",
   "execution_count": 99,
   "metadata": {},
   "outputs": [
    {
     "name": "stderr",
     "output_type": "stream",
     "text": [
      "/opt/anaconda3/lib/python3.7/site-packages/sklearn/ensemble/forest.py:245: FutureWarning: The default value of n_estimators will change from 10 in version 0.20 to 100 in 0.22.\n",
      "  \"10 in version 0.20 to 100 in 0.22.\", FutureWarning)\n"
     ]
    }
   ],
   "source": [
    "rf = RandomForestClassifier()\n",
    "rf.fit(not_kpop[numerical_feats],not_kpop['genre(s)'])\n",
    "preds = rf.predict(kpop_df[numerical_feats])"
   ]
  },
  {
   "cell_type": "code",
   "execution_count": 100,
   "metadata": {},
   "outputs": [
    {
     "data": {
      "text/plain": [
       "pop                458\n",
       "country            350\n",
       "edm_dance          193\n",
       "hiphop             130\n",
       "reggae              79\n",
       "jazz                75\n",
       "rock                63\n",
       "rnb                 40\n",
       "classical           33\n",
       "pop//hiphop          4\n",
       "pop//rnb             3\n",
       "pop//country         1\n",
       "jazz//classical      1\n",
       "dtype: int64"
      ]
     },
     "execution_count": 100,
     "metadata": {},
     "output_type": "execute_result"
    }
   ],
   "source": [
    "pd.Series(preds).value_counts()"
   ]
  },
  {
   "cell_type": "code",
   "execution_count": null,
   "metadata": {},
   "outputs": [],
   "source": [
    "for i in np.arange(1,6):\n",
    "    X_train,X_test,y_train,y_test=train_test_split(analysis_df[numerical_feats],analysis_df['genre'],train_size=.9)\n",
    "    knn = KNeighborsClassifier(n_neighbors=i)\n",
    "    knn.fit(X_train,y_train)\n",
    "    print(i, knn.score(X_test,y_test))"
   ]
  },
  {
   "cell_type": "code",
   "execution_count": null,
   "metadata": {},
   "outputs": [],
   "source": [
    "X_train,X_test,y_train,y_test=train_test_split(analysis_df[numerical_feats],analysis_df['genre'],train_size=.9)\n",
    "knn = KNeighborsClassifier(n_neighbors=4)\n",
    "knn.fit(X_train,y_train)\n",
    "knn.score(X_test,y_test)\n",
    "preds = knn.predict(X_test)\n",
    "actual = y_test.values"
   ]
  },
  {
   "cell_type": "code",
   "execution_count": null,
   "metadata": {},
   "outputs": [],
   "source": [
    "correct = 0\n",
    "rock_pred = 0\n",
    "pop_pred = 0\n",
    "for i in range(len(preds)):\n",
    "    if actual[i] == \"kpop\":\n",
    "        if preds[i] == \"kpop\":\n",
    "            correct += 1\n",
    "        elif preds[i] == \"rock\":\n",
    "            rock_pred += 1\n",
    "        else:\n",
    "            pop_pred += 1"
   ]
  },
  {
   "cell_type": "code",
   "execution_count": null,
   "metadata": {},
   "outputs": [],
   "source": [
    "correct, rock_pred, pop_pred"
   ]
  },
  {
   "cell_type": "code",
   "execution_count": null,
   "metadata": {},
   "outputs": [],
   "source": [
    "correct = 0\n",
    "kpop_pred = 0\n",
    "pop_pred = 0\n",
    "for i in range(len(preds)):\n",
    "    if actual[i] == \"rock\":\n",
    "        if preds[i] == \"rock\":\n",
    "            correct += 1\n",
    "        elif preds[i] == \"kpop\":\n",
    "            rock_pred += 1\n",
    "        else:\n",
    "            pop_pred += 1"
   ]
  },
  {
   "cell_type": "code",
   "execution_count": null,
   "metadata": {},
   "outputs": [],
   "source": [
    "correct, kpop_pred, pop_pred"
   ]
  },
  {
   "cell_type": "code",
   "execution_count": null,
   "metadata": {},
   "outputs": [],
   "source": [
    "(analysis_df['genre'] == 'pop').sum()"
   ]
  },
  {
   "cell_type": "code",
   "execution_count": null,
   "metadata": {},
   "outputs": [],
   "source": [
    "cats = sp.categories(county='US')"
   ]
  },
  {
   "cell_type": "code",
   "execution_count": null,
   "metadata": {},
   "outputs": [],
   "source": []
  }
 ],
 "metadata": {
  "kernelspec": {
   "display_name": "Python 3",
   "language": "python",
   "name": "python3"
  },
  "language_info": {
   "codemirror_mode": {
    "name": "ipython",
    "version": 3
   },
   "file_extension": ".py",
   "mimetype": "text/x-python",
   "name": "python",
   "nbconvert_exporter": "python",
   "pygments_lexer": "ipython3",
   "version": "3.7.4"
  }
 },
 "nbformat": 4,
 "nbformat_minor": 2
}
