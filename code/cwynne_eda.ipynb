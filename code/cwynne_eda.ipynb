{
 "cells": [
  {
   "cell_type": "markdown",
   "metadata": {},
   "source": [
    "# EDA Notebook"
   ]
  },
  {
   "cell_type": "code",
   "execution_count": 11,
   "metadata": {},
   "outputs": [],
   "source": [
    "import pandas as pd\n",
    "import numpy as np\n",
    "import json\n",
    "from sklearn.model_selection import train_test_split\n",
    "from sklearn.neighbors import KNeighborsClassifier"
   ]
  },
  {
   "cell_type": "code",
   "execution_count": 2,
   "metadata": {},
   "outputs": [],
   "source": [
    "# kpop_df = pd.read_csv(\"../data/test/kpop/metadata/kpop_metadata.csv\")\n",
    "# pop_df = pd.read_csv(\"../data/test/pop/metadata/pop_metadata.csv\")\n",
    "# rock_df = pd.read_csv(\"../data/test/rock/metadata/rock_metadata.csv\")"
   ]
  },
  {
   "cell_type": "code",
   "execution_count": 23,
   "metadata": {},
   "outputs": [],
   "source": [
    "# kpop_df['genre'] = 'kpop'\n",
    "# pop_df['genre'] = 'pop'\n",
    "# rock_df['genre'] = 'rock'\n",
    "# analysis_df = pd.concat([kpop_df,pop_df,rock_df])"
   ]
  },
  {
   "cell_type": "code",
   "execution_count": 56,
   "metadata": {},
   "outputs": [],
   "source": [
    "analysis_df = pd.read_csv(\"../data/test/all/metadata/all_audio_features.csv\")"
   ]
  },
  {
   "cell_type": "code",
   "execution_count": 57,
   "metadata": {},
   "outputs": [],
   "source": [
    "numerical_feats = ['danceability','energy','loudness','key','mode',\n",
    "                   'speechiness','acousticness','instrumentalness',\n",
    "                   'liveness','valence','tempo']"
   ]
  },
  {
   "cell_type": "code",
   "execution_count": 58,
   "metadata": {},
   "outputs": [
    {
     "name": "stdout",
     "output_type": "stream",
     "text": [
      "1 0.49171270718232046\n",
      "2 0.3812154696132597\n",
      "3 0.4005524861878453\n",
      "4 0.4530386740331492\n",
      "5 0.48066298342541436\n"
     ]
    }
   ],
   "source": [
    "for i in np.arange(1,6):\n",
    "    X_train,X_test,y_train,y_test=train_test_split(analysis_df[numerical_feats],analysis_df['genre'],train_size=.9)\n",
    "    knn = KNeighborsClassifier(n_neighbors=i)\n",
    "    knn.fit(X_train,y_train)\n",
    "    print(i, knn.score(X_test,y_test))"
   ]
  },
  {
   "cell_type": "code",
   "execution_count": 59,
   "metadata": {},
   "outputs": [
    {
     "data": {
      "text/plain": [
       "0.39502762430939226"
      ]
     },
     "execution_count": 59,
     "metadata": {},
     "output_type": "execute_result"
    }
   ],
   "source": [
    "X_train,X_test,y_train,y_test=train_test_split(analysis_df[numerical_feats],analysis_df['genre'],train_size=.9)\n",
    "knn = KNeighborsClassifier(n_neighbors=4)\n",
    "knn.fit(X_train,y_train)\n",
    "knn.score(X_test,y_test)"
   ]
  },
  {
   "cell_type": "code",
   "execution_count": 60,
   "metadata": {},
   "outputs": [],
   "source": [
    "preds = knn.predict(X_test)\n",
    "actual = y_test.values"
   ]
  },
  {
   "cell_type": "code",
   "execution_count": 61,
   "metadata": {},
   "outputs": [],
   "source": [
    "correct = 0\n",
    "rock_pred = 0\n",
    "pop_pred = 0\n",
    "for i in range(len(preds)):\n",
    "    if actual[i] == \"kpop\":\n",
    "        if preds[i] == \"kpop\":\n",
    "            correct += 1\n",
    "        elif preds[i] == \"rock\":\n",
    "            rock_pred += 1\n",
    "        else:\n",
    "            pop_pred += 1"
   ]
  },
  {
   "cell_type": "code",
   "execution_count": 62,
   "metadata": {},
   "outputs": [
    {
     "data": {
      "text/plain": [
       "(42, 21, 32)"
      ]
     },
     "execution_count": 62,
     "metadata": {},
     "output_type": "execute_result"
    }
   ],
   "source": [
    "correct, rock_pred, pop_pred"
   ]
  },
  {
   "cell_type": "code",
   "execution_count": null,
   "metadata": {},
   "outputs": [],
   "source": []
  }
 ],
 "metadata": {
  "kernelspec": {
   "display_name": "Python 3",
   "language": "python",
   "name": "python3"
  },
  "language_info": {
   "codemirror_mode": {
    "name": "ipython",
    "version": 3
   },
   "file_extension": ".py",
   "mimetype": "text/x-python",
   "name": "python",
   "nbconvert_exporter": "python",
   "pygments_lexer": "ipython3",
   "version": "3.7.4"
  }
 },
 "nbformat": 4,
 "nbformat_minor": 2
}
