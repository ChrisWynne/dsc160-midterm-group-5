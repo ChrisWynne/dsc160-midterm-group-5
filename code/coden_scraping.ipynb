{
 "cells": [
  {
   "cell_type": "markdown",
   "metadata": {},
   "source": [
    "# Spotify API Scrape"
   ]
  },
  {
   "cell_type": "code",
   "execution_count": 2,
   "metadata": {},
   "outputs": [],
   "source": [
    "# run this once\n",
    "# !pip install spotipy --upgrade"
   ]
  },
  {
   "cell_type": "code",
   "execution_count": 3,
   "metadata": {},
   "outputs": [],
   "source": [
    "import spotipy\n",
    "from spotipy.oauth2 import SpotifyClientCredentials\n",
    "import pandas as pd\n",
    "import numpy as np\n",
    "import json\n",
    "import os"
   ]
  },
  {
   "cell_type": "code",
   "execution_count": 4,
   "metadata": {},
   "outputs": [],
   "source": [
    "with open(\"../api_cred.json\") as json_file:\n",
    "    creds = json.load(json_file)"
   ]
  },
  {
   "cell_type": "code",
   "execution_count": 5,
   "metadata": {},
   "outputs": [],
   "source": [
    "client_id = creds['client_id']\n",
    "client_secret = creds['client_secret']\n",
    "client_credentials_manager = SpotifyClientCredentials(client_id=client_id, client_secret=client_secret)\n",
    "sp = spotipy.Spotify(client_credentials_manager=client_credentials_manager)"
   ]
  },
  {
   "cell_type": "code",
   "execution_count": 41,
   "metadata": {},
   "outputs": [],
   "source": [
    "def load_cached_requests(fp):\n",
    "    if os.path.exists(fp):\n",
    "        with open(fp) as json_file:\n",
    "            ret_dic = json.load(json_file)\n",
    "            print(\"Loaded cached data at:\",fp)\n",
    "    else:\n",
    "        print(\"Failed to load cached data at:\",fp)\n",
    "        ret_dic = {}\n",
    "    return ret_dic\n",
    "\n",
    "def save_cached_requests(save_dic, save_dir,fname):\n",
    "    if not os.path.exists(save_dir):\n",
    "        os.makedirs(save_dir)\n",
    "    with open(save_dir+fname,'w+') as outfile:\n",
    "        json.dump(save_dic,outfile)\n",
    "    print(\"Requests Cached Successfully at:\", save_dir+fname)\n",
    "\n",
    "def save_csvs(data, save_dir, fname):\n",
    "    for genre in data:\n",
    "        genre_save_dir = save_dir.format(genre)\n",
    "        genre_fname = fname.format(genre)\n",
    "        if not os.path.exists(genre_save_dir):\n",
    "            os.makedirs(genre_save_dir)\n",
    "        data[genre].to_csv(genre_save_dir + genre_fname, index=False)\n",
    "        print(\"CSV Saved at:\", genre_save_dir + genre_fname)"
   ]
  },
  {
   "cell_type": "code",
   "execution_count": 7,
   "metadata": {},
   "outputs": [],
   "source": [
    "def get_playlists_data_from_category(cat_id,master_playlist_dic):\n",
    "    # api call\n",
    "    search_result = sp.category_playlists(category_id=cat_id,country=\"US\")\n",
    "    playlist_ids = []\n",
    "    for playlist in search_result['playlists']['items']:\n",
    "        playlist_ids.append(playlist['id'])\n",
    "    playlists_data = []\n",
    "    for playlist_id in playlist_ids:\n",
    "        # avoids api call using cached request, could hold outdated info if playlist is changed recently\n",
    "        if playlist_id in master_playlist_dic.keys():\n",
    "            playlist_data = master_playlist_dic[playlist_id]\n",
    "        else:\n",
    "            # api call\n",
    "            playlist_data = sp.playlist(playlist_id)\n",
    "            master_playlist_dic[playlist_id] = playlist_data\n",
    "        playlists_data.append(playlist_data)\n",
    "    return playlists_data"
   ]
  },
  {
   "cell_type": "code",
   "execution_count": 8,
   "metadata": {},
   "outputs": [],
   "source": [
    "def get_track_data_from_playlists(playlists_data, master_track_dic, master_audio_features_dic):\n",
    "    ret_df = pd.DataFrame()\n",
    "    for cur_playlist_data in playlists_data: # only doing two for api reasons currently\n",
    "\n",
    "        # can add more features here (album, artist, etc..) MOVED TO FUNCTION USING CACHED DICS\n",
    "        cur_playlist_track_ids = []\n",
    "        for track in cur_playlist_data['tracks']['items']:\n",
    "            if track['track']:\n",
    "                cur_track_id = track['track']['id']\n",
    "                if cur_track_id != None:\n",
    "                    # caches track metadata if not cached\n",
    "                    if cur_track_id not in master_track_dic.keys():\n",
    "                        master_track_dic[cur_track_id] = track\n",
    "                    cur_playlist_track_ids.append(cur_track_id)\n",
    "                \n",
    "        # making a list of non cached track audio features\n",
    "        not_cached_ids = []\n",
    "        for track_id in cur_playlist_track_ids:\n",
    "            if track_id not in master_audio_features_dic.keys():\n",
    "                not_cached_ids.append(track_id)\n",
    "\n",
    "        # get audio features of non cached tracks\n",
    "        if len(not_cached_ids) > 0:\n",
    "            print(\"Making\",len(not_cached_ids),\"API Calls\")\n",
    "            # api call\n",
    "            not_cached_data = sp.audio_features(not_cached_ids)\n",
    "            # caching the non cached track audio features\n",
    "            for i in range(len(not_cached_data)):\n",
    "                track_feats = not_cached_data[i]\n",
    "                if track_feats:\n",
    "                    master_audio_features_dic[track_feats['id']] = track_feats\n",
    "                else:\n",
    "                    master_audio_features_dic[not_cached_ids[i]] = None\n",
    "\n",
    "        # iterating current playlist tracks and accessing the cached audio features\n",
    "        playlist_track_feats = []\n",
    "        for track_id in cur_playlist_track_ids:\n",
    "            cur_feats = master_audio_features_dic[track_id]\n",
    "            if cur_feats:\n",
    "                playlist_track_feats.append(cur_feats)\n",
    "\n",
    "        # building return df\n",
    "        cur_playlist_df = pd.DataFrame(playlist_track_feats)\n",
    "        ret_df = pd.concat([ret_df, cur_playlist_df])\n",
    "    ret_df = ret_df.reset_index(drop=True)\n",
    "    return ret_df"
   ]
  },
  {
   "cell_type": "code",
   "execution_count": 57,
   "metadata": {},
   "outputs": [],
   "source": [
    "def get_genre_data(target_genres, cache_dir, csv_dir, save_data=True):\n",
    "    master_track_fname = \"track_data.json\"\n",
    "    master_playlist_fname = \"playlist_data.json\"\n",
    "    master_audio_features_fname = \"track_audio_features.json\"\n",
    "    master_track_dic = load_cached_requests(cache_dir + master_track_fname)\n",
    "    master_playlist_dic = load_cached_requests(cache_dir + master_playlist_fname)\n",
    "    master_audio_features_dic = load_cached_requests(cache_dir + master_audio_features_fname)\n",
    "    \n",
    "    genres_data = {}\n",
    "    genres_data[\"all\"] = pd.DataFrame()\n",
    "    for genre in target_genres:\n",
    "        genre_data = get_playlists_data_from_category(genre, master_playlist_dic)\n",
    "        genre_df = get_track_data_from_playlists(genre_data, master_track_dic, master_audio_features_dic)\n",
    "        genre_df[\"genre\"] = genre\n",
    "        genres_data[genre] = genre_df\n",
    "        genres_data[\"all\"] = pd.concat([genre_df, genres_data[\"all\"]])\n",
    "    genres_data[\"all\"] = genres_data[\"all\"].drop_duplicates().reset_index(drop=True)\n",
    "    \n",
    "    save_cached_requests(master_track_dic,cache_dir,master_track_fname)\n",
    "    save_cached_requests(master_playlist_dic,cache_dir,master_playlist_fname)\n",
    "    save_cached_requests(master_audio_features_dic,cache_dir,master_audio_features_fname)\n",
    "    \n",
    "    if save_data:\n",
    "        csv_fname = \"{}_metadata.csv\"\n",
    "        save_csvs(genres_data, csv_dir, csv_fname)\n",
    "        \n",
    "    return genres_data"
   ]
  },
  {
   "cell_type": "code",
   "execution_count": 58,
   "metadata": {},
   "outputs": [
    {
     "name": "stdout",
     "output_type": "stream",
     "text": [
      "Loaded cached data at: ../data/local/cached_requests/track_data.json\n",
      "Loaded cached data at: ../data/local/cached_requests/playlist_data.json\n",
      "Loaded cached data at: ../data/local/cached_requests/track_audio_features.json\n",
      "Requests Cached Successfully at: ../data/local/cached_requests/track_data.json\n",
      "Requests Cached Successfully at: ../data/local/cached_requests/playlist_data.json\n",
      "Requests Cached Successfully at: ../data/local/cached_requests/track_audio_features.json\n",
      "CSV Saved at: ../data/test/all/metadata/all_metadata.csv\n",
      "CSV Saved at: ../data/test/kpop/metadata/kpop_metadata.csv\n",
      "CSV Saved at: ../data/test/pop/metadata/pop_metadata.csv\n",
      "CSV Saved at: ../data/test/rock/metadata/rock_metadata.csv\n"
     ]
    }
   ],
   "source": [
    "target_genres = [\"kpop\", \"pop\", \"rock\"]\n",
    "genres_data = get_genre_data(target_genres,\n",
    "                             cache_dir=\"../data/local/cached_requests/\",\n",
    "                             csv_dir=\"../data/test/{}/metadata/\")"
   ]
  },
  {
   "cell_type": "code",
   "execution_count": null,
   "metadata": {},
   "outputs": [],
   "source": []
  }
 ],
 "metadata": {
  "kernelspec": {
   "display_name": "Python 3",
   "language": "python",
   "name": "python3"
  },
  "language_info": {
   "codemirror_mode": {
    "name": "ipython",
    "version": 3
   },
   "file_extension": ".py",
   "mimetype": "text/x-python",
   "name": "python",
   "nbconvert_exporter": "python",
   "pygments_lexer": "ipython3",
   "version": "3.6.2"
  }
 },
 "nbformat": 4,
 "nbformat_minor": 2
}
