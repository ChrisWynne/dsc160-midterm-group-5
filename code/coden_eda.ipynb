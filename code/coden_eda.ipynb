{
 "cells": [
  {
   "cell_type": "markdown",
   "metadata": {},
   "source": [
    "# EDA Notebook"
   ]
  },
  {
   "cell_type": "code",
   "execution_count": 16,
   "metadata": {},
   "outputs": [],
   "source": [
    "import pandas as pd\n",
    "import numpy as np\n",
    "import json\n",
    "from sklearn.preprocessing import MultiLabelBinarizer\n",
    "from sklearn.model_selection import train_test_split\n",
    "from sklearn.neighbors import KNeighborsClassifier\n",
    "from sklearn.ensemble import RandomForestClassifier\n",
    "from collections import defaultdict"
   ]
  },
  {
   "cell_type": "code",
   "execution_count": 14,
   "metadata": {
    "scrolled": true
   },
   "outputs": [],
   "source": [
    "analysis_df = pd.read_csv(\"../data/test/all/metadata/all_audio_features.csv\")\n",
    "\n",
    "# Convert string-based col to list-based col where applicable\n",
    "analysis_df[\"genre(s)\"] = analysis_df[\"genre(s)\"].str.split('//')\n",
    "analysis_df[\"artist_names\"] = analysis_df[\"artist_names\"].str.split('//')"
   ]
  },
  {
   "cell_type": "code",
   "execution_count": 15,
   "metadata": {
    "scrolled": true
   },
   "outputs": [
    {
     "data": {
      "text/html": [
       "<div>\n",
       "<style scoped>\n",
       "    .dataframe tbody tr th:only-of-type {\n",
       "        vertical-align: middle;\n",
       "    }\n",
       "\n",
       "    .dataframe tbody tr th {\n",
       "        vertical-align: top;\n",
       "    }\n",
       "\n",
       "    .dataframe thead th {\n",
       "        text-align: right;\n",
       "    }\n",
       "</style>\n",
       "<table border=\"1\" class=\"dataframe\">\n",
       "  <thead>\n",
       "    <tr style=\"text-align: right;\">\n",
       "      <th></th>\n",
       "      <th>danceability</th>\n",
       "      <th>energy</th>\n",
       "      <th>key</th>\n",
       "      <th>loudness</th>\n",
       "      <th>mode</th>\n",
       "      <th>speechiness</th>\n",
       "      <th>acousticness</th>\n",
       "      <th>instrumentalness</th>\n",
       "      <th>liveness</th>\n",
       "      <th>valence</th>\n",
       "      <th>tempo</th>\n",
       "      <th>id</th>\n",
       "      <th>analysis_url</th>\n",
       "      <th>duration_ms</th>\n",
       "      <th>time_signature</th>\n",
       "      <th>genre(s)</th>\n",
       "      <th>artist_ids</th>\n",
       "      <th>artist_names</th>\n",
       "      <th>name</th>\n",
       "    </tr>\n",
       "  </thead>\n",
       "  <tbody>\n",
       "    <tr>\n",
       "      <th>0</th>\n",
       "      <td>0.529</td>\n",
       "      <td>0.722</td>\n",
       "      <td>1</td>\n",
       "      <td>-4.815</td>\n",
       "      <td>0</td>\n",
       "      <td>0.0814</td>\n",
       "      <td>0.2130</td>\n",
       "      <td>0.000000</td>\n",
       "      <td>0.1020</td>\n",
       "      <td>0.666</td>\n",
       "      <td>79.951</td>\n",
       "      <td>14xRAc1zbSZZzKaYgkwqdY</td>\n",
       "      <td>https://api.spotify.com/v1/audio-analysis/14xR...</td>\n",
       "      <td>212132</td>\n",
       "      <td>4</td>\n",
       "      <td>[kpop]</td>\n",
       "      <td>3cjEqqelV9zb4BYE3qDQ4O</td>\n",
       "      <td>[EXO]</td>\n",
       "      <td>PLAYBOY</td>\n",
       "    </tr>\n",
       "    <tr>\n",
       "      <th>1</th>\n",
       "      <td>0.533</td>\n",
       "      <td>0.838</td>\n",
       "      <td>0</td>\n",
       "      <td>-3.722</td>\n",
       "      <td>1</td>\n",
       "      <td>0.0319</td>\n",
       "      <td>0.1030</td>\n",
       "      <td>0.000000</td>\n",
       "      <td>0.3940</td>\n",
       "      <td>0.451</td>\n",
       "      <td>75.013</td>\n",
       "      <td>7rLvsAO1yb7ElxPhkz60qh</td>\n",
       "      <td>https://api.spotify.com/v1/audio-analysis/7rLv...</td>\n",
       "      <td>196549</td>\n",
       "      <td>4</td>\n",
       "      <td>[kpop]</td>\n",
       "      <td>0UEP2XBR9aC5NBKcAKnBIq//4ufh0WuMZh6y4Dmdnklvdl...</td>\n",
       "      <td>[CHEN, BAEKHYUN, XIUMIN]</td>\n",
       "      <td>For You</td>\n",
       "    </tr>\n",
       "    <tr>\n",
       "      <th>2</th>\n",
       "      <td>0.749</td>\n",
       "      <td>0.850</td>\n",
       "      <td>0</td>\n",
       "      <td>-4.346</td>\n",
       "      <td>1</td>\n",
       "      <td>0.0468</td>\n",
       "      <td>0.0319</td>\n",
       "      <td>0.000048</td>\n",
       "      <td>0.0678</td>\n",
       "      <td>0.672</td>\n",
       "      <td>145.983</td>\n",
       "      <td>5EzitieoPnjyKHAq0gfRMa</td>\n",
       "      <td>https://api.spotify.com/v1/audio-analysis/5Ezi...</td>\n",
       "      <td>190423</td>\n",
       "      <td>4</td>\n",
       "      <td>[kpop]</td>\n",
       "      <td>3cjEqqelV9zb4BYE3qDQ4O</td>\n",
       "      <td>[EXO]</td>\n",
       "      <td>Ko Ko Bop</td>\n",
       "    </tr>\n",
       "    <tr>\n",
       "      <th>3</th>\n",
       "      <td>0.619</td>\n",
       "      <td>0.462</td>\n",
       "      <td>4</td>\n",
       "      <td>-9.154</td>\n",
       "      <td>1</td>\n",
       "      <td>0.0402</td>\n",
       "      <td>0.8540</td>\n",
       "      <td>0.000004</td>\n",
       "      <td>0.0932</td>\n",
       "      <td>0.131</td>\n",
       "      <td>123.945</td>\n",
       "      <td>1RMUSljuiZKUNaf6xskK9n</td>\n",
       "      <td>https://api.spotify.com/v1/audio-analysis/1RMU...</td>\n",
       "      <td>193931</td>\n",
       "      <td>4</td>\n",
       "      <td>[kpop]</td>\n",
       "      <td>4ufh0WuMZh6y4Dmdnklvdl</td>\n",
       "      <td>[BAEKHYUN]</td>\n",
       "      <td>My Love</td>\n",
       "    </tr>\n",
       "    <tr>\n",
       "      <th>4</th>\n",
       "      <td>0.629</td>\n",
       "      <td>0.575</td>\n",
       "      <td>6</td>\n",
       "      <td>-5.763</td>\n",
       "      <td>0</td>\n",
       "      <td>0.0354</td>\n",
       "      <td>0.2350</td>\n",
       "      <td>0.000000</td>\n",
       "      <td>0.0935</td>\n",
       "      <td>0.239</td>\n",
       "      <td>136.053</td>\n",
       "      <td>5pesNiBKAx8JNwK2mQ2HEc</td>\n",
       "      <td>https://api.spotify.com/v1/audio-analysis/5pes...</td>\n",
       "      <td>218090</td>\n",
       "      <td>4</td>\n",
       "      <td>[kpop]</td>\n",
       "      <td>3cjEqqelV9zb4BYE3qDQ4O</td>\n",
       "      <td>[EXO]</td>\n",
       "      <td>지나갈 테니 Been Through</td>\n",
       "    </tr>\n",
       "  </tbody>\n",
       "</table>\n",
       "</div>"
      ],
      "text/plain": [
       "   danceability  energy  key  loudness  mode  speechiness  acousticness  \\\n",
       "0         0.529   0.722    1    -4.815     0       0.0814        0.2130   \n",
       "1         0.533   0.838    0    -3.722     1       0.0319        0.1030   \n",
       "2         0.749   0.850    0    -4.346     1       0.0468        0.0319   \n",
       "3         0.619   0.462    4    -9.154     1       0.0402        0.8540   \n",
       "4         0.629   0.575    6    -5.763     0       0.0354        0.2350   \n",
       "\n",
       "   instrumentalness  liveness  valence    tempo                      id  \\\n",
       "0          0.000000    0.1020    0.666   79.951  14xRAc1zbSZZzKaYgkwqdY   \n",
       "1          0.000000    0.3940    0.451   75.013  7rLvsAO1yb7ElxPhkz60qh   \n",
       "2          0.000048    0.0678    0.672  145.983  5EzitieoPnjyKHAq0gfRMa   \n",
       "3          0.000004    0.0932    0.131  123.945  1RMUSljuiZKUNaf6xskK9n   \n",
       "4          0.000000    0.0935    0.239  136.053  5pesNiBKAx8JNwK2mQ2HEc   \n",
       "\n",
       "                                        analysis_url  duration_ms  \\\n",
       "0  https://api.spotify.com/v1/audio-analysis/14xR...       212132   \n",
       "1  https://api.spotify.com/v1/audio-analysis/7rLv...       196549   \n",
       "2  https://api.spotify.com/v1/audio-analysis/5Ezi...       190423   \n",
       "3  https://api.spotify.com/v1/audio-analysis/1RMU...       193931   \n",
       "4  https://api.spotify.com/v1/audio-analysis/5pes...       218090   \n",
       "\n",
       "   time_signature genre(s)                                         artist_ids  \\\n",
       "0               4   [kpop]                             3cjEqqelV9zb4BYE3qDQ4O   \n",
       "1               4   [kpop]  0UEP2XBR9aC5NBKcAKnBIq//4ufh0WuMZh6y4Dmdnklvdl...   \n",
       "2               4   [kpop]                             3cjEqqelV9zb4BYE3qDQ4O   \n",
       "3               4   [kpop]                             4ufh0WuMZh6y4Dmdnklvdl   \n",
       "4               4   [kpop]                             3cjEqqelV9zb4BYE3qDQ4O   \n",
       "\n",
       "               artist_names                 name  \n",
       "0                     [EXO]              PLAYBOY  \n",
       "1  [CHEN, BAEKHYUN, XIUMIN]              For You  \n",
       "2                     [EXO]            Ko Ko Bop  \n",
       "3                [BAEKHYUN]              My Love  \n",
       "4                     [EXO]  지나갈 테니 Been Through  "
      ]
     },
     "execution_count": 15,
     "metadata": {},
     "output_type": "execute_result"
    }
   ],
   "source": [
    "analysis_df.head()"
   ]
  },
  {
   "cell_type": "code",
   "execution_count": 172,
   "metadata": {},
   "outputs": [],
   "source": [
    "def score_preds(preds, y_test):\n",
    "    scores = [dict() for _ in preds]\n",
    "    elem_len = len(preds[0])\n",
    "    \n",
    "    for i in range(len(preds)):\n",
    "        correct = 0\n",
    "        wrong = 0\n",
    "        for j in range(len(preds[i])):\n",
    "            if preds[i, j] == y_test[i, j]:\n",
    "                correct += 1\n",
    "            else:\n",
    "                wrong += 1\n",
    "        scores[i] = {\n",
    "            \"correct\":correct,\n",
    "            \"wrong\":wrong,\n",
    "            \"total_elems\":elem_len\n",
    "        }\n",
    "        \n",
    "    return pd.DataFrame(scores)"
   ]
  },
  {
   "cell_type": "code",
   "execution_count": 173,
   "metadata": {},
   "outputs": [],
   "source": [
    "def get_pred_stats(preds, y_test, classes):\n",
    "    scores_df = score_preds(preds, y_test)\n",
    "    category_count = scores_df[\"total_elems\"].iloc[0]\n",
    "    total_correctness = np.mean(scores_df[\"correct\"]/category_count)\n",
    "    \n",
    "    preds_df = pd.DataFrame(preds, columns=binarizer.classes_)\n",
    "    y_test_df = pd.DataFrame(y_test, columns=binarizer.classes_)\n",
    "    equality_df = preds_df == y_test_df\n",
    "    \n",
    "    out = {\"correct_predictions\":total_correctness}\n",
    "    \n",
    "    for genre in equality_df:\n",
    "        out[\"{}_accuracy\".format(genre)] = np.mean(equality_df[genre])\n",
    "    \n",
    "    return pd.Series(out).round(3)"
   ]
  },
  {
   "cell_type": "code",
   "execution_count": 66,
   "metadata": {},
   "outputs": [],
   "source": [
    "numerical_feats = ['danceability','energy','loudness','key','mode',\n",
    "                   'speechiness','acousticness','instrumentalness',\n",
    "                   'liveness','valence','tempo', 'duration_ms',\n",
    "                   'time_signature']"
   ]
  },
  {
   "cell_type": "code",
   "execution_count": 190,
   "metadata": {},
   "outputs": [],
   "source": [
    "import sklearn.neural_network\n",
    "from sklearn.tree import DecisionTreeClassifier"
   ]
  },
  {
   "cell_type": "code",
   "execution_count": 197,
   "metadata": {
    "scrolled": false
   },
   "outputs": [
    {
     "name": "stdout",
     "output_type": "stream",
     "text": [
      "KNeighborsClassifier\n"
     ]
    },
    {
     "data": {
      "text/plain": [
       "correct_predictions    0.708\n",
       "hiphop_accuracy        0.695\n",
       "kpop_accuracy          0.835\n",
       "pop_accuracy           0.654\n",
       "rock_accuracy          0.647\n",
       "dtype: float64"
      ]
     },
     "metadata": {},
     "output_type": "display_data"
    },
    {
     "name": "stdout",
     "output_type": "stream",
     "text": [
      "DecisionTreeClassifier\n"
     ]
    },
    {
     "data": {
      "text/plain": [
       "correct_predictions    0.787\n",
       "hiphop_accuracy        0.819\n",
       "kpop_accuracy          0.844\n",
       "pop_accuracy           0.674\n",
       "rock_accuracy          0.811\n",
       "dtype: float64"
      ]
     },
     "metadata": {},
     "output_type": "display_data"
    },
    {
     "name": "stdout",
     "output_type": "stream",
     "text": [
      "RandomForestClassifier\n"
     ]
    },
    {
     "data": {
      "text/plain": [
       "correct_predictions    0.856\n",
       "hiphop_accuracy        0.887\n",
       "kpop_accuracy          0.902\n",
       "pop_accuracy           0.747\n",
       "rock_accuracy          0.888\n",
       "dtype: float64"
      ]
     },
     "metadata": {},
     "output_type": "display_data"
    },
    {
     "name": "stdout",
     "output_type": "stream",
     "text": [
      "MLPClassifier\n"
     ]
    },
    {
     "data": {
      "text/plain": [
       "correct_predictions    0.647\n",
       "hiphop_accuracy        0.752\n",
       "kpop_accuracy          0.858\n",
       "pop_accuracy           0.609\n",
       "rock_accuracy          0.367\n",
       "dtype: float64"
      ]
     },
     "metadata": {},
     "output_type": "display_data"
    }
   ],
   "source": [
    "binarizer = MultiLabelBinarizer()\n",
    "binarized_data = binarizer.fit_transform(analysis_df[\"genre(s)\"])\n",
    "train_test_data = binarized_data\n",
    "\n",
    "X_train, X_test, y_train, y_test = train_test_split(analysis_df[numerical_feats], binarized_data)\n",
    "\n",
    "models = {\"KNeighborsClassifier\":KNeighborsClassifier(),\n",
    "          \"DecisionTreeClassifier\":DecisionTreeClassifier(),\n",
    "          \"RandomForestClassifier\":RandomForestClassifier(),\n",
    "          \"MLPClassifier\":sklearn.neural_network.MLPClassifier(max_iter=5000)}\n",
    "\n",
    "for modl_name in models:\n",
    "    model = models[modl_name]\n",
    "    model.fit(X_train, y_train)\n",
    "    preds = model.predict(X_test)\n",
    "    print(modl_name)\n",
    "    display(get_pred_stats(preds, y_test, binarizer.classes_))"
   ]
  },
  {
   "cell_type": "code",
   "execution_count": null,
   "metadata": {},
   "outputs": [],
   "source": []
  },
  {
   "cell_type": "code",
   "execution_count": null,
   "metadata": {},
   "outputs": [],
   "source": []
  },
  {
   "cell_type": "code",
   "execution_count": null,
   "metadata": {},
   "outputs": [],
   "source": []
  },
  {
   "cell_type": "code",
   "execution_count": null,
   "metadata": {},
   "outputs": [],
   "source": []
  },
  {
   "cell_type": "code",
   "execution_count": null,
   "metadata": {},
   "outputs": [],
   "source": []
  }
 ],
 "metadata": {
  "kernelspec": {
   "display_name": "Python 3",
   "language": "python",
   "name": "python3"
  },
  "language_info": {
   "codemirror_mode": {
    "name": "ipython",
    "version": 3
   },
   "file_extension": ".py",
   "mimetype": "text/x-python",
   "name": "python",
   "nbconvert_exporter": "python",
   "pygments_lexer": "ipython3",
   "version": "3.6.2"
  }
 },
 "nbformat": 4,
 "nbformat_minor": 2
}
