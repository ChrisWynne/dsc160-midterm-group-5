{
 "cells": [
  {
   "cell_type": "markdown",
   "metadata": {},
   "source": [
    "# EDA Notebook"
   ]
  },
  {
   "cell_type": "code",
   "execution_count": 78,
   "metadata": {},
   "outputs": [],
   "source": [
    "import pandas as pd\n",
    "import numpy as np\n",
    "import json\n",
    "from sklearn.model_selection import train_test_split\n",
    "from sklearn.neighbors import KNeighborsClassifier\n",
    "from sklearn.linear_model import LogisticRegression\n",
    "from sklearn.ensemble import RandomForestClassifier\n",
    "from collections import defaultdict"
   ]
  },
  {
   "cell_type": "code",
   "execution_count": 5,
   "metadata": {
    "scrolled": true
   },
   "outputs": [],
   "source": [
    "analysis_df = pd.read_csv(\"../data/test/all/metadata/all_metadata.csv\")"
   ]
  },
  {
   "cell_type": "code",
   "execution_count": 9,
   "metadata": {
    "scrolled": true
   },
   "outputs": [
    {
     "data": {
      "text/html": [
       "<div>\n",
       "<style scoped>\n",
       "    .dataframe tbody tr th:only-of-type {\n",
       "        vertical-align: middle;\n",
       "    }\n",
       "\n",
       "    .dataframe tbody tr th {\n",
       "        vertical-align: top;\n",
       "    }\n",
       "\n",
       "    .dataframe thead th {\n",
       "        text-align: right;\n",
       "    }\n",
       "</style>\n",
       "<table border=\"1\" class=\"dataframe\">\n",
       "  <thead>\n",
       "    <tr style=\"text-align: right;\">\n",
       "      <th></th>\n",
       "      <th>danceability</th>\n",
       "      <th>energy</th>\n",
       "      <th>key</th>\n",
       "      <th>loudness</th>\n",
       "      <th>mode</th>\n",
       "      <th>speechiness</th>\n",
       "      <th>acousticness</th>\n",
       "      <th>instrumentalness</th>\n",
       "      <th>liveness</th>\n",
       "      <th>valence</th>\n",
       "      <th>tempo</th>\n",
       "      <th>type</th>\n",
       "      <th>id</th>\n",
       "      <th>uri</th>\n",
       "      <th>track_href</th>\n",
       "      <th>analysis_url</th>\n",
       "      <th>duration_ms</th>\n",
       "      <th>time_signature</th>\n",
       "      <th>genre</th>\n",
       "    </tr>\n",
       "  </thead>\n",
       "  <tbody>\n",
       "    <tr>\n",
       "      <th>0</th>\n",
       "      <td>0.520</td>\n",
       "      <td>0.856</td>\n",
       "      <td>2</td>\n",
       "      <td>-4.228</td>\n",
       "      <td>1</td>\n",
       "      <td>0.0806</td>\n",
       "      <td>0.000193</td>\n",
       "      <td>0.000000</td>\n",
       "      <td>0.1570</td>\n",
       "      <td>0.470</td>\n",
       "      <td>160.083</td>\n",
       "      <td>audio_features</td>\n",
       "      <td>1bWEngw5tAF7vWByrf5Oy5</td>\n",
       "      <td>spotify:track:1bWEngw5tAF7vWByrf5Oy5</td>\n",
       "      <td>https://api.spotify.com/v1/tracks/1bWEngw5tAF7...</td>\n",
       "      <td>https://api.spotify.com/v1/audio-analysis/1bWE...</td>\n",
       "      <td>205016</td>\n",
       "      <td>4</td>\n",
       "      <td>rock</td>\n",
       "    </tr>\n",
       "    <tr>\n",
       "      <th>1</th>\n",
       "      <td>0.500</td>\n",
       "      <td>0.949</td>\n",
       "      <td>1</td>\n",
       "      <td>-3.123</td>\n",
       "      <td>1</td>\n",
       "      <td>0.0833</td>\n",
       "      <td>0.008470</td>\n",
       "      <td>0.000000</td>\n",
       "      <td>0.5140</td>\n",
       "      <td>0.648</td>\n",
       "      <td>159.824</td>\n",
       "      <td>audio_features</td>\n",
       "      <td>7noHzxuNmeIwYftylZfVRT</td>\n",
       "      <td>spotify:track:7noHzxuNmeIwYftylZfVRT</td>\n",
       "      <td>https://api.spotify.com/v1/tracks/7noHzxuNmeIw...</td>\n",
       "      <td>https://api.spotify.com/v1/audio-analysis/7noH...</td>\n",
       "      <td>175343</td>\n",
       "      <td>4</td>\n",
       "      <td>rock</td>\n",
       "    </tr>\n",
       "    <tr>\n",
       "      <th>2</th>\n",
       "      <td>0.369</td>\n",
       "      <td>0.845</td>\n",
       "      <td>0</td>\n",
       "      <td>-3.449</td>\n",
       "      <td>0</td>\n",
       "      <td>0.0611</td>\n",
       "      <td>0.049300</td>\n",
       "      <td>0.000000</td>\n",
       "      <td>0.4160</td>\n",
       "      <td>0.782</td>\n",
       "      <td>78.532</td>\n",
       "      <td>audio_features</td>\n",
       "      <td>0tyR7Bu9P086aWBFZ4QJoo</td>\n",
       "      <td>spotify:track:0tyR7Bu9P086aWBFZ4QJoo</td>\n",
       "      <td>https://api.spotify.com/v1/tracks/0tyR7Bu9P086...</td>\n",
       "      <td>https://api.spotify.com/v1/audio-analysis/0tyR...</td>\n",
       "      <td>174068</td>\n",
       "      <td>4</td>\n",
       "      <td>rock</td>\n",
       "    </tr>\n",
       "    <tr>\n",
       "      <th>3</th>\n",
       "      <td>0.507</td>\n",
       "      <td>0.883</td>\n",
       "      <td>0</td>\n",
       "      <td>-3.553</td>\n",
       "      <td>1</td>\n",
       "      <td>0.0424</td>\n",
       "      <td>0.002090</td>\n",
       "      <td>0.073700</td>\n",
       "      <td>0.0728</td>\n",
       "      <td>0.386</td>\n",
       "      <td>103.074</td>\n",
       "      <td>audio_features</td>\n",
       "      <td>47RUKAN9BY0z6lZcs9rCsw</td>\n",
       "      <td>spotify:track:47RUKAN9BY0z6lZcs9rCsw</td>\n",
       "      <td>https://api.spotify.com/v1/tracks/47RUKAN9BY0z...</td>\n",
       "      <td>https://api.spotify.com/v1/audio-analysis/47RU...</td>\n",
       "      <td>245867</td>\n",
       "      <td>4</td>\n",
       "      <td>rock</td>\n",
       "    </tr>\n",
       "    <tr>\n",
       "      <th>4</th>\n",
       "      <td>0.471</td>\n",
       "      <td>0.947</td>\n",
       "      <td>0</td>\n",
       "      <td>-3.062</td>\n",
       "      <td>1</td>\n",
       "      <td>0.1120</td>\n",
       "      <td>0.000650</td>\n",
       "      <td>0.000001</td>\n",
       "      <td>0.3050</td>\n",
       "      <td>0.524</td>\n",
       "      <td>164.040</td>\n",
       "      <td>audio_features</td>\n",
       "      <td>2hVKFfp7Rmr2XPK31jFCrX</td>\n",
       "      <td>spotify:track:2hVKFfp7Rmr2XPK31jFCrX</td>\n",
       "      <td>https://api.spotify.com/v1/tracks/2hVKFfp7Rmr2...</td>\n",
       "      <td>https://api.spotify.com/v1/audio-analysis/2hVK...</td>\n",
       "      <td>173520</td>\n",
       "      <td>4</td>\n",
       "      <td>rock</td>\n",
       "    </tr>\n",
       "  </tbody>\n",
       "</table>\n",
       "</div>"
      ],
      "text/plain": [
       "   danceability  energy  key  loudness  mode  speechiness  acousticness  \\\n",
       "0         0.520   0.856    2    -4.228     1       0.0806      0.000193   \n",
       "1         0.500   0.949    1    -3.123     1       0.0833      0.008470   \n",
       "2         0.369   0.845    0    -3.449     0       0.0611      0.049300   \n",
       "3         0.507   0.883    0    -3.553     1       0.0424      0.002090   \n",
       "4         0.471   0.947    0    -3.062     1       0.1120      0.000650   \n",
       "\n",
       "   instrumentalness  liveness  valence    tempo            type  \\\n",
       "0          0.000000    0.1570    0.470  160.083  audio_features   \n",
       "1          0.000000    0.5140    0.648  159.824  audio_features   \n",
       "2          0.000000    0.4160    0.782   78.532  audio_features   \n",
       "3          0.073700    0.0728    0.386  103.074  audio_features   \n",
       "4          0.000001    0.3050    0.524  164.040  audio_features   \n",
       "\n",
       "                       id                                   uri  \\\n",
       "0  1bWEngw5tAF7vWByrf5Oy5  spotify:track:1bWEngw5tAF7vWByrf5Oy5   \n",
       "1  7noHzxuNmeIwYftylZfVRT  spotify:track:7noHzxuNmeIwYftylZfVRT   \n",
       "2  0tyR7Bu9P086aWBFZ4QJoo  spotify:track:0tyR7Bu9P086aWBFZ4QJoo   \n",
       "3  47RUKAN9BY0z6lZcs9rCsw  spotify:track:47RUKAN9BY0z6lZcs9rCsw   \n",
       "4  2hVKFfp7Rmr2XPK31jFCrX  spotify:track:2hVKFfp7Rmr2XPK31jFCrX   \n",
       "\n",
       "                                          track_href  \\\n",
       "0  https://api.spotify.com/v1/tracks/1bWEngw5tAF7...   \n",
       "1  https://api.spotify.com/v1/tracks/7noHzxuNmeIw...   \n",
       "2  https://api.spotify.com/v1/tracks/0tyR7Bu9P086...   \n",
       "3  https://api.spotify.com/v1/tracks/47RUKAN9BY0z...   \n",
       "4  https://api.spotify.com/v1/tracks/2hVKFfp7Rmr2...   \n",
       "\n",
       "                                        analysis_url  duration_ms  \\\n",
       "0  https://api.spotify.com/v1/audio-analysis/1bWE...       205016   \n",
       "1  https://api.spotify.com/v1/audio-analysis/7noH...       175343   \n",
       "2  https://api.spotify.com/v1/audio-analysis/0tyR...       174068   \n",
       "3  https://api.spotify.com/v1/audio-analysis/47RU...       245867   \n",
       "4  https://api.spotify.com/v1/audio-analysis/2hVK...       173520   \n",
       "\n",
       "   time_signature genre  \n",
       "0               4  rock  \n",
       "1               4  rock  \n",
       "2               4  rock  \n",
       "3               4  rock  \n",
       "4               4  rock  "
      ]
     },
     "execution_count": 9,
     "metadata": {},
     "output_type": "execute_result"
    }
   ],
   "source": [
    "analysis_df.head()"
   ]
  },
  {
   "cell_type": "code",
   "execution_count": 10,
   "metadata": {},
   "outputs": [],
   "source": [
    "numerical_feats = ['danceability','energy','loudness','key','mode',\n",
    "                   'speechiness','acousticness','instrumentalness',\n",
    "                   'liveness','valence','tempo', 'duration_ms',\n",
    "                   'time_signature']"
   ]
  },
  {
   "cell_type": "code",
   "execution_count": 116,
   "metadata": {},
   "outputs": [],
   "source": [
    "X_train, X_test, y_train, y_test = train_test_split(analysis_df[numerical_feats],\n",
    "                                                    analysis_df['genre'])\n",
    "# model = LogisticRegression()\n",
    "# model = RandomForestClassifier()\n",
    "model = KNeighborsClassifier()\n",
    "model.fit(X_train, y_train)\n",
    "preds = model.predict(X_test)"
   ]
  },
  {
   "cell_type": "code",
   "execution_count": 114,
   "metadata": {
    "scrolled": true
   },
   "outputs": [],
   "source": [
    "target_genre = \"rock\"\n",
    "subset_data = analysis_df[analysis_df.genre == target_genre]\n",
    "preds = model.predict(subset_data[numerical_feats])"
   ]
  },
  {
   "cell_type": "code",
   "execution_count": 118,
   "metadata": {
    "scrolled": true
   },
   "outputs": [
    {
     "data": {
      "text/plain": [
       "rock       125\n",
       "correct    379\n",
       "pop        188\n",
       "kpop       205\n",
       "dtype: int64"
      ]
     },
     "metadata": {},
     "output_type": "display_data"
    },
    {
     "name": "stdout",
     "output_type": "stream",
     "text": [
      "Accuracy: 0.423\n"
     ]
    }
   ],
   "source": [
    "pred_results = defaultdict(int)\n",
    "for i in range(len(preds)):\n",
    "    if preds[i] == y_test.iloc[i]:\n",
    "        pred_results[\"correct\"] += 1\n",
    "    else:\n",
    "        pred_results[preds[i]] += 1                \n",
    "\n",
    "display(pd.Series(pred_results))\n",
    "print(\"Accuracy:\", round(pred_results[\"correct\"] / len(preds), 3))"
   ]
  },
  {
   "cell_type": "code",
   "execution_count": null,
   "metadata": {},
   "outputs": [],
   "source": []
  },
  {
   "cell_type": "code",
   "execution_count": null,
   "metadata": {},
   "outputs": [],
   "source": []
  },
  {
   "cell_type": "code",
   "execution_count": 58,
   "metadata": {},
   "outputs": [
    {
     "name": "stdout",
     "output_type": "stream",
     "text": [
      "1 0.49171270718232046\n",
      "2 0.3812154696132597\n",
      "3 0.4005524861878453\n",
      "4 0.4530386740331492\n",
      "5 0.48066298342541436\n"
     ]
    }
   ],
   "source": [
    "for i in np.arange(1,6):\n",
    "    X_train,X_test,y_train,y_test=train_test_split(analysis_df[numerical_feats],analysis_df['genre'],train_size=.9)\n",
    "    knn = KNeighborsClassifier(n_neighbors=i)\n",
    "    knn.fit(X_train,y_train)\n",
    "    print(i, knn.score(X_test,y_test))"
   ]
  },
  {
   "cell_type": "code",
   "execution_count": 59,
   "metadata": {},
   "outputs": [
    {
     "data": {
      "text/plain": [
       "0.39502762430939226"
      ]
     },
     "execution_count": 59,
     "metadata": {},
     "output_type": "execute_result"
    }
   ],
   "source": [
    "X_train,X_test,y_train,y_test=train_test_split(analysis_df[numerical_feats],analysis_df['genre'],train_size=.9)\n",
    "knn = KNeighborsClassifier(n_neighbors=4)\n",
    "knn.fit(X_train,y_train)\n",
    "knn.score(X_test,y_test)"
   ]
  },
  {
   "cell_type": "code",
   "execution_count": 60,
   "metadata": {},
   "outputs": [],
   "source": [
    "preds = knn.predict(X_test)\n",
    "actual = y_test.values"
   ]
  },
  {
   "cell_type": "code",
   "execution_count": 61,
   "metadata": {},
   "outputs": [],
   "source": [
    "correct = 0\n",
    "rock_pred = 0\n",
    "pop_pred = 0\n",
    "for i in range(len(preds)):\n",
    "    if actual[i] == \"kpop\":\n",
    "        if preds[i] == \"kpop\":\n",
    "            correct += 1\n",
    "        elif preds[i] == \"rock\":\n",
    "            rock_pred += 1\n",
    "        else:\n",
    "            pop_pred += 1"
   ]
  },
  {
   "cell_type": "code",
   "execution_count": 62,
   "metadata": {},
   "outputs": [
    {
     "data": {
      "text/plain": [
       "(42, 21, 32)"
      ]
     },
     "execution_count": 62,
     "metadata": {},
     "output_type": "execute_result"
    }
   ],
   "source": [
    "correct, rock_pred, pop_pred"
   ]
  },
  {
   "cell_type": "code",
   "execution_count": null,
   "metadata": {},
   "outputs": [],
   "source": []
  }
 ],
 "metadata": {
  "kernelspec": {
   "display_name": "Python 3",
   "language": "python",
   "name": "python3"
  },
  "language_info": {
   "codemirror_mode": {
    "name": "ipython",
    "version": 3
   },
   "file_extension": ".py",
   "mimetype": "text/x-python",
   "name": "python",
   "nbconvert_exporter": "python",
   "pygments_lexer": "ipython3",
   "version": "3.6.2"
  }
 },
 "nbformat": 4,
 "nbformat_minor": 2
}
