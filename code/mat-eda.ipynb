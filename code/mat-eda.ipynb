{
 "cells": [
  {
   "cell_type": "code",
   "execution_count": null,
   "metadata": {},
   "outputs": [],
   "source": [
    "pip install spotipy --user"
   ]
  },
  {
   "cell_type": "code",
   "execution_count": null,
   "metadata": {},
   "outputs": [],
   "source": [
    "pip install librosa --user"
   ]
  },
  {
   "cell_type": "code",
   "execution_count": null,
   "metadata": {},
   "outputs": [],
   "source": [
    "pip install pydub --user"
   ]
  },
  {
   "cell_type": "code",
   "execution_count": 54,
   "metadata": {},
   "outputs": [],
   "source": [
    "import spotipy\n",
    "import pandas as pd\n",
    "import numpy as np\n",
    "import json\n",
    "import os\n",
    "import time\n",
    "import librosa\n",
    "import io\n",
    "import pydub\n",
    "import random\n",
    "import matplotlib.pyplot as plt\n",
    "\n",
    "from sklearn.ensemble import RandomForestClassifier\n",
    "from sklearn.neighbors import KNeighborsClassifier\n",
    "from spotipy.oauth2 import SpotifyClientCredentials\n",
    "from urllib.request import urlopen\n",
    "from collections import Counter"
   ]
  },
  {
   "cell_type": "code",
   "execution_count": 6,
   "metadata": {},
   "outputs": [],
   "source": [
    "def get_credentials(api_cred_fp):\n",
    "    if os.path.exists(api_cred_fp):\n",
    "        with open(api_cred_fp) as json_file:\n",
    "            creds = json.load(json_file)\n",
    "        return creds\n",
    "    else:\n",
    "        \"Credentials File Not Found\""
   ]
  },
  {
   "cell_type": "code",
   "execution_count": 4,
   "metadata": {},
   "outputs": [],
   "source": [
    "def get_features(cred_dir,data_dir):\n",
    "    creds = get_credentials(cred_dir)\n",
    "    \n",
    "    client_id = creds['client_id']\n",
    "    client_secret = creds['client_secret']\n",
    "    \n",
    "    df = pd.read_csv(data_dir)\n",
    "    \n",
    "    client_credentials_manager = SpotifyClientCredentials(client_id=client_id, client_secret=client_secret)\n",
    "    spotify = spotipy.Spotify(client_credentials_manager=client_credentials_manager)\n",
    "    \n",
    "    all_features = []\n",
    "    all_labels = []\n",
    "    \n",
    "    wav = io.BytesIO()\n",
    "    for ix,row in df.iterrows():\n",
    "        song_id = row['id']\n",
    "        if song_id not in ids:\n",
    "            track = spotify.track(song_id)\n",
    "            url  = track['preview_url']\n",
    "            if url!=None:\n",
    "                with urlopen(url) as r:\n",
    "                    r.seek = lambda *args: None\n",
    "                    pydub.AudioSegment.from_file(r).export(wav, \"wav\")\n",
    "\n",
    "                wav.seek(0)\n",
    "                y, sr = librosa.load(wav)\n",
    "                features = librosa.feature.mfcc(y, sr=sr)\n",
    "                features = features.T\n",
    "                label = [row['genre(s)']]\n",
    "                all_labels = np.concatenate((all_labels,label*len(features))) \n",
    "    \n",
    "                if len(all_features) == 0:\n",
    "                    all_features = features\n",
    "                else:\n",
    "                    all_features = np.vstack((all_features,features))\n",
    "    return all_features, all_labels,df,spotify"
   ]
  },
  {
   "cell_type": "code",
   "execution_count": 46,
   "metadata": {},
   "outputs": [],
   "source": [
    "def get_model_metrics(spotify,df,model,genre,sample_size):\n",
    "    ids = random.choices(df[df['genre(s)']==genre].id.values,k=sample_size*2)\n",
    "    pred_results = []\n",
    "    wav = io.BytesIO()\n",
    "    for i in ids:\n",
    "        track = spotify.track(i)\n",
    "        url  = track['preview_url']\n",
    "        if url!=None:\n",
    "            with urlopen(url) as r:\n",
    "                r.seek = lambda *args: None\n",
    "                pydub.AudioSegment.from_file(r).export(wav, \"wav\")\n",
    "\n",
    "            wav.seek(0)\n",
    "            y, sr = librosa.load(wav)\n",
    "            features = librosa.feature.mfcc(y, sr=sr)\n",
    "            features = features.T\n",
    "    \n",
    "            pred_label = model.predict(features)\n",
    "            pred_label = dict(Counter(pred_label))\n",
    "            pred_results.append(max(pred_label, key=pred_label.get))\n",
    "        if len(pred_results)==sample_size:\n",
    "            break\n",
    "            \n",
    "    return pred_results"
   ]
  },
  {
   "cell_type": "code",
   "execution_count": 6,
   "metadata": {},
   "outputs": [],
   "source": [
    "def generate_training_data(all_features,all_labels,genre,set_size=100000):\n",
    "    randomize_placeholder = list(zip(all_features, all_labels))\n",
    "    random.shuffle(randomize_placeholder)\n",
    "    all_features, all_labels = zip(*randomize_placeholder)\n",
    "    del randomize_placeholder\n",
    "    genre_removed_features = []\n",
    "    genre_removed_labels = []\n",
    "    for feature,label in zip(all_features, all_labels):\n",
    "        if (len(genre_removed_features)!=set_size) and (genre not in label):\n",
    "            genre_removed_features.append(feature)\n",
    "            genre_removed_labels.append(label)\n",
    "    return genre_removed_features,genre_removed_labels"
   ]
  },
  {
   "cell_type": "code",
   "execution_count": 7,
   "metadata": {},
   "outputs": [],
   "source": [
    "def train_models(test_features,test_labels):\n",
    "    randForestModel = RandomForestClassifier()\n",
    "    KNNmodel = KNeighborsClassifier()\n",
    "    \n",
    "    randForestModel.fit(test_features,test_labels)\n",
    "    KNNmodel.fit(test_features,test_labels)\n",
    "    return randForestModel,KNNmodel"
   ]
  },
  {
   "cell_type": "markdown",
   "metadata": {},
   "source": [
    "### Generate Features from DataFrame"
   ]
  },
  {
   "cell_type": "code",
   "execution_count": null,
   "metadata": {},
   "outputs": [],
   "source": [
    "data_dir = '../data/test/all/metadata/all_audio_features.csv'\n",
    "cred_dir = '../api_cred.json'"
   ]
  },
  {
   "cell_type": "code",
   "execution_count": null,
   "metadata": {},
   "outputs": [],
   "source": [
    "all_features, all_labels,df,spotify = get_features(cred_dir,data_dir)"
   ]
  },
  {
   "cell_type": "markdown",
   "metadata": {},
   "source": [
    "### Exclude K-pop entries and get sample of all features for training features"
   ]
  },
  {
   "cell_type": "code",
   "execution_count": null,
   "metadata": {},
   "outputs": [],
   "source": [
    "training_features,training_labels = generate_training_data(all_features,all_labels,'kpop')"
   ]
  },
  {
   "cell_type": "markdown",
   "metadata": {},
   "source": [
    "### Train models"
   ]
  },
  {
   "cell_type": "code",
   "execution_count": null,
   "metadata": {},
   "outputs": [],
   "source": [
    "randForestModel,KNNmodel = train_models(training_features,training_labels)"
   ]
  },
  {
   "cell_type": "markdown",
   "metadata": {},
   "source": [
    "### Predict random K-pop song genre with models"
   ]
  },
  {
   "cell_type": "code",
   "execution_count": null,
   "metadata": {},
   "outputs": [],
   "source": [
    "res_rand = get_model_metrics(spotify,df,randForestModel,'kpop',2500)"
   ]
  },
  {
   "cell_type": "code",
   "execution_count": null,
   "metadata": {},
   "outputs": [],
   "source": [
    "res_KNN = get_model_metrics(spotify,df,KNNmodel,'kpop',2500)"
   ]
  },
  {
   "cell_type": "code",
   "execution_count": 69,
   "metadata": {},
   "outputs": [
    {
     "data": {
      "image/png": "[encoded data removed]",
      "text/plain": [
       "<Figure size 432x288 with 1 Axes>"
      ]
     },
     "metadata": {
      "needs_background": "light"
     },
     "output_type": "display_data"
    }
   ],
   "source": [
    "res_rand = {k: v for k, v in sorted(dict(Counter(res_rand)).items(), key=lambda item: item[1])}\n",
    "plt.bar(res_rand.keys(),res_rand.values())\n",
    "plt.xlabel('Genre')\n",
    "plt.ylabel('Number of predictions')\n",
    "plt.title('Distribution of genre predictions based on K-pop songs on Random Forest Classifier')\n",
    "plt.xticks(rotation=10)\n",
    "plt.show()"
   ]
  },
  {
   "cell_type": "code",
   "execution_count": 68,
   "metadata": {},
   "outputs": [
    {
     "data": {
      "image/png": "[encoded data removed]",
      "text/plain": [
       "<Figure size 432x288 with 1 Axes>"
      ]
     },
     "metadata": {
      "needs_background": "light"
     },
     "output_type": "display_data"
    }
   ],
   "source": [
    "res_KNN = {k: v for k, v in sorted(dict(Counter(res_KNN)).items(), key=lambda item: item[1])}\n",
    "plt.bar(res_KNN.keys(),res_KNN.values())\n",
    "plt.xlabel('Genre')\n",
    "plt.ylabel('Number of predictions')\n",
    "plt.title('Distribution of genre predictions based on K-pop songs on K Nearest Neighbors')\n",
    "plt.xticks(rotation=10)\n",
    "plt.show()"
   ]
  }
 ],
 "metadata": {
  "kernelspec": {
   "display_name": "Python 3",
   "language": "python",
   "name": "python3"
  },
  "language_info": {
   "codemirror_mode": {
    "name": "ipython",
    "version": 3
   },
   "file_extension": ".py",
   "mimetype": "text/x-python",
   "name": "python",
   "nbconvert_exporter": "python",
   "pygments_lexer": "ipython3",
   "version": "3.7.6"
  }
 },
 "nbformat": 4,
 "nbformat_minor": 4
}
