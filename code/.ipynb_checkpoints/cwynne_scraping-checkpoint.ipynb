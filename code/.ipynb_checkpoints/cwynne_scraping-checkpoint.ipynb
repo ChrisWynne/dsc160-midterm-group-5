{
 "cells": [
  {
   "cell_type": "markdown",
   "metadata": {},
   "source": [
    "# Spotify API Scrape"
   ]
  },
  {
   "cell_type": "code",
   "execution_count": null,
   "metadata": {},
   "outputs": [],
   "source": [
    "# run this once\n",
    "#!pip install spotipy --upgrade"
   ]
  },
  {
   "cell_type": "code",
   "execution_count": 74,
   "metadata": {},
   "outputs": [],
   "source": [
    "import spotipy\n",
    "from spotipy.oauth2 import SpotifyClientCredentials\n",
    "import pandas as pd\n",
    "import numpy as np\n",
    "import json\n",
    "import os"
   ]
  },
  {
   "cell_type": "code",
   "execution_count": 3,
   "metadata": {},
   "outputs": [],
   "source": [
    "with open(\"../api_cred.json\") as json_file:\n",
    "    creds = json.load(json_file)"
   ]
  },
  {
   "cell_type": "code",
   "execution_count": 6,
   "metadata": {},
   "outputs": [],
   "source": [
    "client_id = creds['client_id']\n",
    "client_secret = creds['client_secret']\n",
    "client_credentials_manager = SpotifyClientCredentials(client_id=client_id, client_secret=client_secret)\n",
    "sp = spotipy.Spotify(client_credentials_manager=client_credentials_manager)"
   ]
  },
  {
   "cell_type": "code",
   "execution_count": 7,
   "metadata": {},
   "outputs": [],
   "source": [
    "# api call\n",
    "resp = sp.search(q=\"Korean Pop\", type=\"playlist\")"
   ]
  },
  {
   "cell_type": "code",
   "execution_count": 60,
   "metadata": {},
   "outputs": [],
   "source": [
    "playlist_ids = []\n",
    "for playlist in resp['playlists']['items']:\n",
    "    playlist_ids.append(playlist['id'])"
   ]
  },
  {
   "cell_type": "code",
   "execution_count": 63,
   "metadata": {},
   "outputs": [],
   "source": [
    "playlists_data = []\n",
    "for playlist_id in playlist_ids:\n",
    "    # api call\n",
    "    playlist_data = sp.playlist(playlist_id)\n",
    "    playlists_data.append(playlist_data)"
   ]
  },
  {
   "cell_type": "code",
   "execution_count": 68,
   "metadata": {},
   "outputs": [],
   "source": [
    "kpop_df = pd.DataFrame()\n",
    "for cur_playlist_data in playlists_data[0:2]: # only doing two for api reasons currently\n",
    "    cur_playlist_track_ids = []\n",
    "    cur_playlist_song_names = []\n",
    "    # can add more features here (album, artist, etc..)\n",
    "    for track in cur_playlist_data['tracks']['items']:\n",
    "        cur_playlist_track_ids.append(track['track']['id'])\n",
    "        cur_playlist_song_names.append(track['track']['name'])\n",
    "    # api call\n",
    "    playlist_track_feats = sp.audio_features(cur_playlist_track_ids)\n",
    "    for i in range(len(playlist_track_feats)):\n",
    "        playlist_track_feats[i]['song_name'] = cur_playlist_song_names[i]\n",
    "    cur_playlist_df = pd.DataFrame(playlist_track_feats)\n",
    "    kpop_df = pd.concat([kpop_df, cur_playlist_df])"
   ]
  },
  {
   "cell_type": "code",
   "execution_count": 77,
   "metadata": {},
   "outputs": [],
   "source": [
    "kpop_df = kpop_df.reset_index(drop=True)\n",
    "csv_path = \"../data/test/kpop/metadata/\"\n",
    "if not os.path.exists(csv_path):\n",
    "    os.makedirs(csv_path)\n",
    "kpop_df.to_csv(\"../data/test/kpop/metadata/kpop_metadata.csv\",index=False)"
   ]
  },
  {
   "cell_type": "code",
   "execution_count": 79,
   "metadata": {},
   "outputs": [],
   "source": [
    "analysis_df = pd.read_csv(\"../data/test/kpop/metadata/kpop_metadata.csv\")"
   ]
  }
 ],
 "metadata": {
  "kernelspec": {
   "display_name": "Python 3",
   "language": "python",
   "name": "python3"
  },
  "language_info": {
   "codemirror_mode": {
    "name": "ipython",
    "version": 3
   },
   "file_extension": ".py",
   "mimetype": "text/x-python",
   "name": "python",
   "nbconvert_exporter": "python",
   "pygments_lexer": "ipython3",
   "version": "3.7.4"
  }
 },
 "nbformat": 4,
 "nbformat_minor": 2
}
